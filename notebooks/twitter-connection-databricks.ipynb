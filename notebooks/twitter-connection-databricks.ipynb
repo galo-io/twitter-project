{
 "cells": [
  {
   "cell_type": "code",
   "execution_count": 9,
   "metadata": {},
   "outputs": [],
   "source": [
    "import tweepy\n",
    "import pandas as pd\n",
    "from pyspark.sql import functions as F\n",
    "import numpy as np\n",
    "import json\n",
    "from dotenv import load_dotenv\n",
    "import os"
   ]
  },
  {
   "cell_type": "code",
   "execution_count": 12,
   "metadata": {},
   "outputs": [],
   "source": [
    "load_dotenv()\n",
    "\n",
    "# Inicializar o cliente do Tweepy\n",
    "client = tweepy.Client(consumer_key=os.getenv('TWEEPY_CONSUMER_KEY')\n",
    "                       , consumer_secret=os.getenv('TWEEPY_CONSUMER_SECRET')\n",
    "                       , bearer_token=os.getenv('TWEEPY_BEARER_TOKEN')\n",
    "                       , access_token=os.getenv('TWEEPY_ACCESS_TOKEN')\n",
    "                       , access_token_secret=os.getenv('TWEEPY_ACCESS_TOKEN_SECRET'))"
   ]
  },
  {
   "cell_type": "code",
   "execution_count": 14,
   "metadata": {},
   "outputs": [
    {
     "data": {
      "text/html": [
       "<div>\n",
       "<style scoped>\n",
       "    .dataframe tbody tr th:only-of-type {\n",
       "        vertical-align: middle;\n",
       "    }\n",
       "\n",
       "    .dataframe tbody tr th {\n",
       "        vertical-align: top;\n",
       "    }\n",
       "\n",
       "    .dataframe thead th {\n",
       "        text-align: right;\n",
       "    }\n",
       "</style>\n",
       "<table border=\"1\" class=\"dataframe\">\n",
       "  <thead>\n",
       "    <tr style=\"text-align: right;\">\n",
       "      <th></th>\n",
       "      <th>tweets</th>\n",
       "      <th>autor</th>\n",
       "    </tr>\n",
       "  </thead>\n",
       "  <tbody>\n",
       "    <tr>\n",
       "      <th>0</th>\n",
       "      <td>@maritfernandes @Narmuti22 É o cara do Oasis</td>\n",
       "      <td>Rafael</td>\n",
       "    </tr>\n",
       "    <tr>\n",
       "      <th>1</th>\n",
       "      <td>Hj foi um dia sensacional de bom, mas agora eu...</td>\n",
       "      <td>Rafael</td>\n",
       "    </tr>\n",
       "    <tr>\n",
       "      <th>2</th>\n",
       "      <td>Eu fico indignante que n tenha exposição de po...</td>\n",
       "      <td>Rafael</td>\n",
       "    </tr>\n",
       "    <tr>\n",
       "      <th>3</th>\n",
       "      <td>@homobaronensis Estava</td>\n",
       "      <td>Rafael</td>\n",
       "    </tr>\n",
       "    <tr>\n",
       "      <th>4</th>\n",
       "      <td>O camarada sair de Recife pra passar calor em ...</td>\n",
       "      <td>Rafael</td>\n",
       "    </tr>\n",
       "    <tr>\n",
       "      <th>5</th>\n",
       "      <td>Imagina o quanto vc tem que ser doente pra ter...</td>\n",
       "      <td>Rafael</td>\n",
       "    </tr>\n",
       "    <tr>\n",
       "      <th>6</th>\n",
       "      <td>Segundo dia consecutivo que tô conversando com...</td>\n",
       "      <td>Rafael</td>\n",
       "    </tr>\n",
       "    <tr>\n",
       "      <th>7</th>\n",
       "      <td>Eu acabei de dar uma sequelada MONSTRUOSA, mas...</td>\n",
       "      <td>Rafael</td>\n",
       "    </tr>\n",
       "    <tr>\n",
       "      <th>8</th>\n",
       "      <td>Tô mimando demais esse pirraio aqui em São Pau...</td>\n",
       "      <td>Rafael</td>\n",
       "    </tr>\n",
       "  </tbody>\n",
       "</table>\n",
       "</div>"
      ],
      "text/plain": [
       "                                              tweets   autor\n",
       "0       @maritfernandes @Narmuti22 É o cara do Oasis  Rafael\n",
       "1  Hj foi um dia sensacional de bom, mas agora eu...  Rafael\n",
       "2  Eu fico indignante que n tenha exposição de po...  Rafael\n",
       "3                             @homobaronensis Estava  Rafael\n",
       "4  O camarada sair de Recife pra passar calor em ...  Rafael\n",
       "5  Imagina o quanto vc tem que ser doente pra ter...  Rafael\n",
       "6  Segundo dia consecutivo que tô conversando com...  Rafael\n",
       "7  Eu acabei de dar uma sequelada MONSTRUOSA, mas...  Rafael\n",
       "8  Tô mimando demais esse pirraio aqui em São Pau...  Rafael"
      ]
     },
     "execution_count": 14,
     "metadata": {},
     "output_type": "execute_result"
    }
   ],
   "source": [
    "# Retornar usuário\n",
    "user_username = \"RafaelCdeSouza4\"\n",
    "userId = \"1125202389835878401\"\n",
    "user = client.get_user(id  = userId)\n",
    "\n",
    "# Retornar tweets\n",
    "tweets = client.get_users_tweets(id = userId)\n",
    "\n",
    "# Iterar sobre os tweets e appendar na lista\n",
    "lista_tweets = []\n",
    "for i in tweets[0]:\n",
    "    lista_tweets.append(str(i))\n",
    "    \n",
    "# Criar DF de tweets\n",
    "df = pd.DataFrame(lista_tweets, columns = ['tweets'])\n",
    "df['autor'] = 'Rafael'\n",
    "\n",
    "# Mostra df\n",
    "df"
   ]
  }
 ],
 "metadata": {
  "interpreter": {
   "hash": "0839a42161d1c904b8dc407b63706b4517a72f290d92ffdd022b88fcc03829a8"
  },
  "kernelspec": {
   "display_name": "Python 3.9.7 ('venv': venv)",
   "language": "python",
   "name": "python3"
  },
  "language_info": {
   "codemirror_mode": {
    "name": "ipython",
    "version": 3
   },
   "file_extension": ".py",
   "mimetype": "text/x-python",
   "name": "python",
   "nbconvert_exporter": "python",
   "pygments_lexer": "ipython3",
   "version": "3.9.7"
  },
  "orig_nbformat": 4
 },
 "nbformat": 4,
 "nbformat_minor": 2
}
